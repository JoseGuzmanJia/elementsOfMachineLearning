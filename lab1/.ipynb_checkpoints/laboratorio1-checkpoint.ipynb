{
 "cells": [
  {
   "cell_type": "markdown",
   "metadata": {},
   "source": [
    "# Hoja de Trabajo 1 \n",
    "## Elements of Machine Learning \n",
    "### José Alejandro Guzmán Zamora \n"
   ]
  },
  {
   "cell_type": "markdown",
   "metadata": {},
   "source": [
    "### Procesamiento y Exploración Inicial\n",
    "En las siguientes celdas se lleva a cabo la carga de datos y el pre-procesamiento, por favor leer los comentarios para detalles específicos de conjuntos de líneas de código"
   ]
  },
  {
   "cell_type": "code",
   "execution_count": 6,
   "metadata": {},
   "outputs": [],
   "source": [
    "# Importar las librerías que voy a utilizar \n",
    "from sklearn import preprocessing\n",
    "import pandas as pd\n",
    "import numpy as np \n",
    "import matplotlib.pyplot as plt\n",
    "import seaborn as sns\n",
    "import gradiente as gd\n",
    "from sklearn.model_selection import train_test_split\n",
    "\n",
    "# Configuraciones para mostrar todos los datos en pantalla\n",
    "pd.set_option('display.max_rows', None)\n",
    "pd.set_option('display.max_columns', None)\n",
    "\n",
    "# Configuración para mostrar gráficas en el mismo notebook \n",
    "%matplotlib inline"
   ]
  },
  {
   "cell_type": "code",
   "execution_count": 7,
   "metadata": {},
   "outputs": [
    {
     "data": {
      "text/html": [
       "<div>\n",
       "<style scoped>\n",
       "    .dataframe tbody tr th:only-of-type {\n",
       "        vertical-align: middle;\n",
       "    }\n",
       "\n",
       "    .dataframe tbody tr th {\n",
       "        vertical-align: top;\n",
       "    }\n",
       "\n",
       "    .dataframe thead th {\n",
       "        text-align: right;\n",
       "    }\n",
       "</style>\n",
       "<table border=\"1\" class=\"dataframe\">\n",
       "  <thead>\n",
       "    <tr style=\"text-align: right;\">\n",
       "      <th></th>\n",
       "      <th>Commodity Name</th>\n",
       "      <th>City Name</th>\n",
       "      <th>Type</th>\n",
       "      <th>Package</th>\n",
       "      <th>Variety</th>\n",
       "      <th>Sub Variety</th>\n",
       "      <th>Grade</th>\n",
       "      <th>Date</th>\n",
       "      <th>Low Price</th>\n",
       "      <th>High Price</th>\n",
       "      <th>Mostly Low</th>\n",
       "      <th>Mostly High</th>\n",
       "      <th>Origin</th>\n",
       "      <th>Origin District</th>\n",
       "      <th>Item Size</th>\n",
       "      <th>Color</th>\n",
       "      <th>Environment</th>\n",
       "      <th>Unit of Sale</th>\n",
       "      <th>Quality</th>\n",
       "      <th>Condition</th>\n",
       "      <th>Appearance</th>\n",
       "      <th>Storage</th>\n",
       "      <th>Crop</th>\n",
       "      <th>Repack</th>\n",
       "      <th>Trans Mode</th>\n",
       "    </tr>\n",
       "  </thead>\n",
       "  <tbody>\n",
       "    <tr>\n",
       "      <th>0</th>\n",
       "      <td>PUMPKINS</td>\n",
       "      <td>LOS ANGELES</td>\n",
       "      <td>NaN</td>\n",
       "      <td>24 inch bins</td>\n",
       "      <td>HOWDEN TYPE</td>\n",
       "      <td>NaN</td>\n",
       "      <td>NaN</td>\n",
       "      <td>09/24/2016</td>\n",
       "      <td>120.0</td>\n",
       "      <td>130.0</td>\n",
       "      <td>120.0</td>\n",
       "      <td>130.0</td>\n",
       "      <td>CALIFORNIA</td>\n",
       "      <td>NaN</td>\n",
       "      <td>lge</td>\n",
       "      <td>NaN</td>\n",
       "      <td>NaN</td>\n",
       "      <td>PER BIN</td>\n",
       "      <td>NaN</td>\n",
       "      <td>NaN</td>\n",
       "      <td>NaN</td>\n",
       "      <td>NaN</td>\n",
       "      <td>NaN</td>\n",
       "      <td>N</td>\n",
       "      <td>NaN</td>\n",
       "    </tr>\n",
       "    <tr>\n",
       "      <th>1</th>\n",
       "      <td>PUMPKINS</td>\n",
       "      <td>LOS ANGELES</td>\n",
       "      <td>NaN</td>\n",
       "      <td>24 inch bins</td>\n",
       "      <td>HOWDEN TYPE</td>\n",
       "      <td>NaN</td>\n",
       "      <td>NaN</td>\n",
       "      <td>09/24/2016</td>\n",
       "      <td>120.0</td>\n",
       "      <td>130.0</td>\n",
       "      <td>120.0</td>\n",
       "      <td>130.0</td>\n",
       "      <td>CALIFORNIA</td>\n",
       "      <td>NaN</td>\n",
       "      <td>med</td>\n",
       "      <td>NaN</td>\n",
       "      <td>NaN</td>\n",
       "      <td>PER BIN</td>\n",
       "      <td>NaN</td>\n",
       "      <td>NaN</td>\n",
       "      <td>NaN</td>\n",
       "      <td>NaN</td>\n",
       "      <td>NaN</td>\n",
       "      <td>N</td>\n",
       "      <td>NaN</td>\n",
       "    </tr>\n",
       "    <tr>\n",
       "      <th>2</th>\n",
       "      <td>PUMPKINS</td>\n",
       "      <td>LOS ANGELES</td>\n",
       "      <td>NaN</td>\n",
       "      <td>24 inch bins</td>\n",
       "      <td>HOWDEN TYPE</td>\n",
       "      <td>NaN</td>\n",
       "      <td>NaN</td>\n",
       "      <td>10/01/2016</td>\n",
       "      <td>120.0</td>\n",
       "      <td>130.0</td>\n",
       "      <td>120.0</td>\n",
       "      <td>130.0</td>\n",
       "      <td>CALIFORNIA</td>\n",
       "      <td>NaN</td>\n",
       "      <td>lge</td>\n",
       "      <td>NaN</td>\n",
       "      <td>NaN</td>\n",
       "      <td>PER BIN</td>\n",
       "      <td>NaN</td>\n",
       "      <td>NaN</td>\n",
       "      <td>NaN</td>\n",
       "      <td>NaN</td>\n",
       "      <td>NaN</td>\n",
       "      <td>N</td>\n",
       "      <td>NaN</td>\n",
       "    </tr>\n",
       "    <tr>\n",
       "      <th>3</th>\n",
       "      <td>PUMPKINS</td>\n",
       "      <td>LOS ANGELES</td>\n",
       "      <td>NaN</td>\n",
       "      <td>24 inch bins</td>\n",
       "      <td>HOWDEN TYPE</td>\n",
       "      <td>NaN</td>\n",
       "      <td>NaN</td>\n",
       "      <td>10/01/2016</td>\n",
       "      <td>120.0</td>\n",
       "      <td>130.0</td>\n",
       "      <td>120.0</td>\n",
       "      <td>130.0</td>\n",
       "      <td>CALIFORNIA</td>\n",
       "      <td>NaN</td>\n",
       "      <td>med</td>\n",
       "      <td>NaN</td>\n",
       "      <td>NaN</td>\n",
       "      <td>PER BIN</td>\n",
       "      <td>NaN</td>\n",
       "      <td>NaN</td>\n",
       "      <td>NaN</td>\n",
       "      <td>NaN</td>\n",
       "      <td>NaN</td>\n",
       "      <td>N</td>\n",
       "      <td>NaN</td>\n",
       "    </tr>\n",
       "    <tr>\n",
       "      <th>4</th>\n",
       "      <td>PUMPKINS</td>\n",
       "      <td>LOS ANGELES</td>\n",
       "      <td>NaN</td>\n",
       "      <td>24 inch bins</td>\n",
       "      <td>HOWDEN TYPE</td>\n",
       "      <td>NaN</td>\n",
       "      <td>NaN</td>\n",
       "      <td>10/08/2016</td>\n",
       "      <td>120.0</td>\n",
       "      <td>130.0</td>\n",
       "      <td>120.0</td>\n",
       "      <td>130.0</td>\n",
       "      <td>CALIFORNIA</td>\n",
       "      <td>NaN</td>\n",
       "      <td>lge</td>\n",
       "      <td>NaN</td>\n",
       "      <td>NaN</td>\n",
       "      <td>PER BIN</td>\n",
       "      <td>NaN</td>\n",
       "      <td>NaN</td>\n",
       "      <td>NaN</td>\n",
       "      <td>NaN</td>\n",
       "      <td>NaN</td>\n",
       "      <td>N</td>\n",
       "      <td>NaN</td>\n",
       "    </tr>\n",
       "  </tbody>\n",
       "</table>\n",
       "</div>"
      ],
      "text/plain": [
       "  Commodity Name    City Name  Type       Package      Variety Sub Variety  \\\n",
       "0       PUMPKINS  LOS ANGELES   NaN  24 inch bins  HOWDEN TYPE         NaN   \n",
       "1       PUMPKINS  LOS ANGELES   NaN  24 inch bins  HOWDEN TYPE         NaN   \n",
       "2       PUMPKINS  LOS ANGELES   NaN  24 inch bins  HOWDEN TYPE         NaN   \n",
       "3       PUMPKINS  LOS ANGELES   NaN  24 inch bins  HOWDEN TYPE         NaN   \n",
       "4       PUMPKINS  LOS ANGELES   NaN  24 inch bins  HOWDEN TYPE         NaN   \n",
       "\n",
       "   Grade        Date  Low Price  High Price  Mostly Low  Mostly High  \\\n",
       "0    NaN  09/24/2016      120.0       130.0       120.0        130.0   \n",
       "1    NaN  09/24/2016      120.0       130.0       120.0        130.0   \n",
       "2    NaN  10/01/2016      120.0       130.0       120.0        130.0   \n",
       "3    NaN  10/01/2016      120.0       130.0       120.0        130.0   \n",
       "4    NaN  10/08/2016      120.0       130.0       120.0        130.0   \n",
       "\n",
       "       Origin Origin District Item Size Color  Environment Unit of Sale  \\\n",
       "0  CALIFORNIA             NaN       lge   NaN          NaN      PER BIN   \n",
       "1  CALIFORNIA             NaN       med   NaN          NaN      PER BIN   \n",
       "2  CALIFORNIA             NaN       lge   NaN          NaN      PER BIN   \n",
       "3  CALIFORNIA             NaN       med   NaN          NaN      PER BIN   \n",
       "4  CALIFORNIA             NaN       lge   NaN          NaN      PER BIN   \n",
       "\n",
       "   Quality  Condition  Appearance  Storage  Crop Repack  Trans Mode  \n",
       "0      NaN        NaN         NaN      NaN   NaN      N         NaN  \n",
       "1      NaN        NaN         NaN      NaN   NaN      N         NaN  \n",
       "2      NaN        NaN         NaN      NaN   NaN      N         NaN  \n",
       "3      NaN        NaN         NaN      NaN   NaN      N         NaN  \n",
       "4      NaN        NaN         NaN      NaN   NaN      N         NaN  "
      ]
     },
     "execution_count": 7,
     "metadata": {},
     "output_type": "execute_result"
    }
   ],
   "source": [
    "# Lectura inicial de cada uno de los datasets \n",
    "data_primero = pd.read_csv('./losangeles.csv')\n",
    "data_segundo = pd.read_csv('./newyork.csv')\n",
    "\n",
    "# Concatenarlos para obtener el dataset principal a utilizar \n",
    "data_primero = pd.concat([data_primero, data_segundo])\n",
    "\n",
    "# Inicio de la exploración básica \n",
    "data_primero.head()"
   ]
  },
  {
   "cell_type": "code",
   "execution_count": 8,
   "metadata": {},
   "outputs": [
    {
     "name": "stdout",
     "output_type": "stream",
     "text": [
      "Tipos de paquetes:\n",
      " ['24 inch bins' '36 inch bins' 'bins' '35 lb cartons' 'each'\n",
      " '1 1/9 bushel cartons' 'bushel cartons' '1/2 bushel cartons'\n",
      " '1 1/9 bushel crates']\n"
     ]
    }
   ],
   "source": [
    "# El precio va a depender del tipo de paquete, esto significa que los precios originales \n",
    "# no están estandarizados, por lo que hay que indagar un poco más en el dato \n",
    "tipos_paquetes = data_primero.Package.unique()\n",
    "print(\"Tipos de paquetes:\\n\",tipos_paquetes)"
   ]
  },
  {
   "cell_type": "code",
   "execution_count": 10,
   "metadata": {},
   "outputs": [],
   "source": [
    "# Hay que separar el dataset en los distintos tipos y normalizar por separado antes de volver a juntarlos \n",
    "# En el siguiente arreglo se obtiene cada subdataset por tipo de paquete \n",
    "separados = [data_primero[data_primero.Package == i] for i in tipos_paquetes]"
   ]
  },
  {
   "cell_type": "code",
   "execution_count": 11,
   "metadata": {},
   "outputs": [],
   "source": [
    "# Normalizacion de los datasets \n",
    "\n",
    "# En el siguiente loop se normaliza cada uno de los datasets y se agrega a un arreglo \n",
    "total = []\n",
    "for i in separados:\n",
    "    arreglo = np.array(i['High Price'])\n",
    "    normalizado = preprocessing.normalize([arreglo]).transpose()\n",
    "    normalf = pd.DataFrame(normalizado, index=i.index)\n",
    "    total.append(normalf)\n",
    "\n",
    "# Finalmente, se hace concat y se obtiene un dataset con todos los precios normalizados por separado \n",
    "total = pd.concat(total, join='outer')"
   ]
  },
  {
   "cell_type": "code",
   "execution_count": 18,
   "metadata": {},
   "outputs": [
    {
     "data": {
      "image/png": "[encoded data removed]",
      "text/plain": [
       "<Figure size 432x288 with 1 Axes>"
      ]
     },
     "metadata": {
      "needs_background": "light"
     },
     "output_type": "display_data"
    }
   ],
   "source": [
    "# Distribución Inicial de los precios altos \n",
    "sns.distplot(data_primero['High Price']).set_title(\"Distribución de Precios Original\")\n",
    "plt.show()\n",
    "# Al momento que se muestre la gráfica, se puede verificar que la distribución \n",
    "# no es del todo normal, tiene dos picos de similar tamaño y cierto sesgo a la derecha"
   ]
  },
  {
   "cell_type": "code",
   "execution_count": 21,
   "metadata": {},
   "outputs": [
    {
     "data": {
      "image/png": "[encoded data removed]",
      "text/plain": [
       "<Figure size 432x288 with 1 Axes>"
      ]
     },
     "metadata": {
      "needs_background": "light"
     },
     "output_type": "display_data"
    }
   ],
   "source": [
    "# Distribución a utilizar con los precios normalizados por separado\n",
    "ax = sns.distplot(total[0]).set_title(\"Distribución de Precios Normalizada\")\n",
    "plt.show()\n",
    "\n",
    "# Al momento que se muestre la gráfica se puede visualizar una distribución \n",
    "# relativamente más normal y el sesgo ya es evidente"
   ]
  },
  {
   "cell_type": "code",
   "execution_count": 29,
   "metadata": {},
   "outputs": [],
   "source": [
    "# A continuación se hace una verificación de datos nulos \n",
    "\n",
    "# Utilizar el nombre de data para la continuación, obtiene solo las columnas que nos interesan \n",
    "data = total.copy()\n",
    "tama = data_primero['Item Size'].to_frame()\n",
    "tama.reset_index(inplace=True)\n",
    "data.reset_index(inplace=True)\n",
    "data = pd.concat([data, tama], axis=1)[[0, 'Item Size']]"
   ]
  },
  {
   "cell_type": "code",
   "execution_count": 30,
   "metadata": {},
   "outputs": [
    {
     "name": "stdout",
     "output_type": "stream",
     "text": [
      "Proporción de datos nulos:  0.138\n",
      "Datos nulo eliminados\n"
     ]
    }
   ],
   "source": [
    "# Eliminación de todas las observaciones con datos nulos\n",
    "\n",
    "proporcion = np.round(data.isna().sum().sum() / data.shape[0], 3)\n",
    "print(\"Proporción de datos nulos: \", proporcion)\n",
    "data.dropna(inplace=True)\n",
    "print(\"Datos nulo eliminados\")"
   ]
  },
  {
   "cell_type": "markdown",
   "metadata": {},
   "source": [
    "### Preparación de Datos para los entrenamientos \n",
    "La data en la columna de Item Size es categórica, el algoritmo que se utiliza en este caso solo permite data numérica, por lo que en las siguientes celdas se hace lo necesario para que funcione."
   ]
  },
  {
   "cell_type": "code",
   "execution_count": 32,
   "metadata": {},
   "outputs": [
    {
     "name": "stdout",
     "output_type": "stream",
     "text": [
      "Tipos de Tamaño: \n",
      " ['lge' 'med' 'med-lge' 'sml' nan 'xlge' 'exjbo']\n"
     ]
    }
   ],
   "source": [
    "# Verificar los tipos de categorias, se puede ver que son ordinales \n",
    "tipos_tam = data_primero['Item Size'].unique()\n",
    "print(\"Tipos de Tamaño: \\n\",tipos_tam)\n",
    "\n",
    "# Al ser ordinales no es necesario hacer one hot encoding, se pueden \n",
    "# codificar con números de 1 hasta k dónde k es la cantidad de \n",
    "# categorías"
   ]
  },
  {
   "cell_type": "code",
   "execution_count": 33,
   "metadata": {},
   "outputs": [],
   "source": [
    "# Reemplazo de valores categóricas por su número respectivo\n",
    "\n",
    "data_segundo = data_primero.copy()\n",
    "tama = ['sml', 'med', 'med-lge', 'lge', 'xlge', 'exjbo']\n",
    "for i in range(1,7):\n",
    "    mascara = data_segundo['Item Size'] == tama[i - 1]\n",
    "    data_segundo.loc[mascara, 'Item Size'] = i"
   ]
  },
  {
   "cell_type": "code",
   "execution_count": 37,
   "metadata": {},
   "outputs": [],
   "source": [
    "# Se va a continuar trabajando sobre data_usar, se obtienen \n",
    "# las columnas necesarias \n",
    "\n",
    "data_p = total.copy()\n",
    "sizes = data_segundo['Item Size'].to_frame()\n",
    "data_p.reset_index(inplace=True)\n",
    "sizes.reset_index(inplace=True)\n",
    "data_usar = pd.concat([data_p, sizes], axis=1)[[0,'Item Size']]\n",
    "data_usar.dropna(inplace=True)"
   ]
  },
  {
   "cell_type": "code",
   "execution_count": 38,
   "metadata": {},
   "outputs": [
    {
     "data": {
      "text/html": [
       "<div>\n",
       "<style scoped>\n",
       "    .dataframe tbody tr th:only-of-type {\n",
       "        vertical-align: middle;\n",
       "    }\n",
       "\n",
       "    .dataframe tbody tr th {\n",
       "        vertical-align: top;\n",
       "    }\n",
       "\n",
       "    .dataframe thead th {\n",
       "        text-align: right;\n",
       "    }\n",
       "</style>\n",
       "<table border=\"1\" class=\"dataframe\">\n",
       "  <thead>\n",
       "    <tr style=\"text-align: right;\">\n",
       "      <th></th>\n",
       "      <th>0</th>\n",
       "      <th>Item Size</th>\n",
       "    </tr>\n",
       "  </thead>\n",
       "  <tbody>\n",
       "    <tr>\n",
       "      <th>0</th>\n",
       "      <td>0.148419</td>\n",
       "      <td>4</td>\n",
       "    </tr>\n",
       "    <tr>\n",
       "      <th>1</th>\n",
       "      <td>0.148419</td>\n",
       "      <td>2</td>\n",
       "    </tr>\n",
       "    <tr>\n",
       "      <th>2</th>\n",
       "      <td>0.148419</td>\n",
       "      <td>4</td>\n",
       "    </tr>\n",
       "    <tr>\n",
       "      <th>3</th>\n",
       "      <td>0.148419</td>\n",
       "      <td>2</td>\n",
       "    </tr>\n",
       "    <tr>\n",
       "      <th>4</th>\n",
       "      <td>0.148419</td>\n",
       "      <td>4</td>\n",
       "    </tr>\n",
       "  </tbody>\n",
       "</table>\n",
       "</div>"
      ],
      "text/plain": [
       "          0 Item Size\n",
       "0  0.148419         4\n",
       "1  0.148419         2\n",
       "2  0.148419         4\n",
       "3  0.148419         2\n",
       "4  0.148419         4"
      ]
     },
     "execution_count": 38,
     "metadata": {},
     "output_type": "execute_result"
    }
   ],
   "source": [
    "data_usar.head()"
   ]
  },
  {
   "cell_type": "code",
   "execution_count": 42,
   "metadata": {},
   "outputs": [
    {
     "data": {
      "image/png": "[encoded data removed]",
      "text/plain": [
       "<Figure size 432x288 with 1 Axes>"
      ]
     },
     "metadata": {
      "needs_background": "light"
     },
     "output_type": "display_data"
    }
   ],
   "source": [
    "# Visualización de relación entre los tamaños y el precio de \n",
    "# las calabazas \n",
    "plt.scatter(data_usar['Item Size'], data_usar[0])\n",
    "plt.title(\"Tamaños vs Precio\")\n",
    "plt.show()"
   ]
  },
  {
   "cell_type": "markdown",
   "metadata": {},
   "source": [
    "### Modelado y Cross Validation\n",
    "En las siguientes celdas se obtienen distintos modelos y se escoge uno en base a los resultados del cross validation."
   ]
  },
  {
   "cell_type": "code",
   "execution_count": 43,
   "metadata": {},
   "outputs": [],
   "source": [
    "# Preparación de columa de 0s que hace que el algoritmo funcione correctamente \n",
    "\n",
    "m,_ = data_usar.shape\n",
    "\n",
    "x = data_usar['Item Size'].to_numpy().reshape(m,1)\n",
    "ys = data_usar[0].to_numpy().reshape(m, 1)\n",
    "xs = np.asarray(np.hstack((np.ones(m).reshape(m,1), x)), dtype='float64')"
   ]
  },
  {
   "cell_type": "code",
   "execution_count": 45,
   "metadata": {},
   "outputs": [],
   "source": [
    "# Funciones Principales \n",
    "# Estas funciones llaman al algoritmo de gradient_descent\n",
    "# El cross validation que se estará utilizando es de 80% para entrenamiento \n",
    "# y el 20% para pruebas \n",
    "\n",
    "def test_model(xs, ys, thetas, alpha, it):\n",
    "    X_train, X_test, y_train, y_test = train_test_split(xs, ys, test_size=0.20, random_state=42)\n",
    "    calc = gd.gradient_descent(X_train, y_train, thetas, alpha, it, 0.0000001)\n",
    "    print(\"Resultado Modelo, la hipotesis a la que se llego es la siguiente: \")\n",
    "    print(calc[1][len(calc[1]) - 1])\n",
    "    print(\"El costo con el test es el siguiente: \")\n",
    "    test_cost = gd.cost(X_test, y_test, calc[0])\n",
    "    print(np.round(test_cost, 6))\n",
    "    return calc[0]\n",
    "\n",
    "def graph_model(resultado, data, k):\n",
    "    plt.scatter(data['Item Size'],data[0])\n",
    "    x = np.linspace(0,10,data.shape[0])\n",
    "    y = resultado[0]\n",
    "    for i in range(1, k + 1):\n",
    "        y = y + resultado[i] * (x ** i)\n",
    "    plt.plot(x,y,'-r')\n",
    "    plt.show()"
   ]
  },
  {
   "cell_type": "code",
   "execution_count": 48,
   "metadata": {},
   "outputs": [
    {
     "name": "stdout",
     "output_type": "stream",
     "text": [
      "56\n",
      "Resultado Modelo, la hipotesis a la que se llego es la siguiente: \n",
      "H(56) =[[0.00813207]\n",
      " [0.0217096 ]] costo -> 0.0177\n",
      "El costo con el test es el siguiente: \n",
      "0.010041\n"
     ]
    },
    {
     "data": {
      "image/png": "[encoded data removed]",
      "text/plain": [
       "<Figure size 432x288 with 1 Axes>"
      ]
     },
     "metadata": {
      "needs_background": "light"
     },
     "output_type": "display_data"
    }
   ],
   "source": [
    "# Primera prueba, complejidad 1 \n",
    "resultado = test_model(xs, ys, [0,0], 0.001, 1000)\n",
    "graph_model(resultado, data_usar, 1)"
   ]
  },
  {
   "cell_type": "markdown",
   "metadata": {},
   "source": [
    "En la prueba anterior se obtiene un error de entrenamiento de : 0.017\n",
    "y un error de prueba de : 0.010\n",
    "\n",
    "El algoritmo tuvo que realizar 56 iteraciones para salir y el costo al que se llegó \n",
    "es bastante bueno relativo a la nube de puntos "
   ]
  },
  {
   "cell_type": "code",
   "execution_count": 49,
   "metadata": {},
   "outputs": [
    {
     "name": "stdout",
     "output_type": "stream",
     "text": [
      "39\n",
      "Resultado Modelo, la hipotesis a la que se llego es la siguiente: \n",
      "H(39) =[[0.02388977]\n",
      " [0.02832388]\n",
      " [0.0004376 ]] costo -> 0.0148\n",
      "El costo con el test es el siguiente: \n",
      "0.008568\n"
     ]
    },
    {
     "data": {
      "image/png": "[encoded data removed]",
      "text/plain": [
       "<Figure size 432x288 with 1 Axes>"
      ]
     },
     "metadata": {
      "needs_background": "light"
     },
     "output_type": "display_data"
    }
   ],
   "source": [
    "# Ahora vamos a aumentar el grado del polinomio a 2 \n",
    "siguiente = (xs[:,1] ** 2).reshape(xs.shape[0],1)\n",
    "xs2 = np.hstack((xs, siguiente))\n",
    "resultado2 = test_model(xs2, ys, [0,0,0], 0.009, 1000)\n",
    "graph_model(resultado2, data_usar, 2)"
   ]
  },
  {
   "cell_type": "markdown",
   "metadata": {},
   "source": [
    "Se puede ver que en esta prueba el algoritmo solo tuvo que hacer 39 iteraciones \n",
    "para salir. Resultó con un error de entrenamiento de : 0.014 y un error de prueba\n",
    "de : 0.0085. Este modelo tiene mejores resultados que el anterior, hay que verificar\n",
    "si al seguir aumentando se obtiene todavía menor error. "
   ]
  },
  {
   "cell_type": "code",
   "execution_count": 50,
   "metadata": {},
   "outputs": [
    {
     "name": "stdout",
     "output_type": "stream",
     "text": [
      "4\n",
      "Resultado Modelo, la hipotesis a la que se llego es la siguiente: \n",
      "H(4) =[[6.15819854e-05]\n",
      " [1.45548541e-04]\n",
      " [4.37592081e-04]\n",
      " [1.55070705e-03]] costo -> 0.0204\n",
      "El costo con el test es el siguiente: \n",
      "0.012682\n"
     ]
    },
    {
     "data": {
      "image/png": "[encoded data removed]",
      "text/plain": [
       "<Figure size 432x288 with 1 Axes>"
      ]
     },
     "metadata": {
      "needs_background": "light"
     },
     "output_type": "display_data"
    }
   ],
   "source": [
    "# Ahora vamos a aumentar el grado del polinomio a 3 \n",
    "siguiente3 = (xs[:,1] ** 3).reshape(xs.shape[0],1)\n",
    "xs3 = np.hstack((xs2, siguiente3))\n",
    "resultado3 = test_model(xs3, ys, [0,0,0,0], 0.00009, 1000)\n",
    "graph_model(resultado3, data_usar, 3)"
   ]
  },
  {
   "cell_type": "markdown",
   "metadata": {},
   "source": [
    "En este caso el costo de entrenamiento fue de : 0.20 y el de prueba fue \n",
    "de : 0.013. Los resultados no son muy buenos en comparación al anterior,  \n",
    "pareciera que el modelo está perdiendo su generalidad. Para comprobarlo, \n",
    "se va a realizar una prueba más."
   ]
  },
  {
   "cell_type": "code",
   "execution_count": 51,
   "metadata": {},
   "outputs": [
    {
     "name": "stdout",
     "output_type": "stream",
     "text": [
      "1\n",
      "Resultado Modelo, la hipotesis a la que se llego es la siguiente: \n",
      "H(1) =[[2.67007442e-06]\n",
      " [6.60876873e-06]\n",
      " [2.07046678e-05]\n",
      " [7.56144790e-05]\n",
      " [3.05702015e-04]] costo -> 0.0216\n",
      "El costo con el test es el siguiente: \n",
      "0.013401\n"
     ]
    },
    {
     "data": {
      "image/png": "[encoded data removed]",
      "text/plain": [
       "<Figure size 432x288 with 1 Axes>"
      ]
     },
     "metadata": {
      "needs_background": "light"
     },
     "output_type": "display_data"
    }
   ],
   "source": [
    "# Ahora vamos a aumentar el grado del polinomio a 4\n",
    "siguiente4 = (xs[:,1] ** 4).reshape(xs.shape[0],1)\n",
    "xs4 = np.hstack((xs3, siguiente4))\n",
    "resultado4 = test_model(xs4, ys, [0,0,0,0,0], 0.000009, 10000)\n",
    "graph_model(resultado4, data_usar, 4)"
   ]
  },
  {
   "cell_type": "markdown",
   "metadata": {},
   "source": [
    "En este caso todavía más específico el error de entrenamiento fue de :\n",
    "0.021 y el error de pruebas fue de : 0.13. Es decir, todavía tiene \n",
    "menor rendimiento que el modelo anterior a pesar de ser más expresivo."
   ]
  },
  {
   "cell_type": "markdown",
   "metadata": {},
   "source": [
    "## Análisis Final \n",
    "\n",
    "En base a lo que se observó al momento de hacer las pruebas con diferentes complejidades de modelos, hay suficiente información para determinar que el modelo polinómico que se ajusta de mejor manera a los datos es el de segundo grado, este modelo obtuvo un error de entrenamiento de 0.0148 y un error de pruebas de 0.008568. El modelo que se obtuvo se puede describir mediante los siguientes valores theta:\n",
    "theta1 = 0.02388977<br/>\n",
    "theta2 = 0.02832388<br/>\n",
    "theta3 = 0.0004376 <br/>"
   ]
  },
  {
   "cell_type": "markdown",
   "metadata": {},
   "source": [
    "El modelo de complejidad 1 obtuvo buenos resultados pero estuvieron debajo del modelo seleccionado. Por el otro lado, los modelos de complejidades mayores se volvieron más específicos pero el error de pruebas empezó a aumentar conforme aumentaba la complejidad. <br/>\n",
    "Un detalle que vale la pena hacer notar es que mientras aumentaron las complejidades, disminuyó la cantidad de iteraciones que el algoritmo tenía que hacer para salir. Esto podría explicarse por la expresividad de cada modelo y su relación con los datos. Sin embargo, hay que recordar que en todos los casos se inicializaron los thetas con 0, esto se hizo porque al inicializarlos con valores aleatoreos se llegaba a un modelo con costos mucho mayores. \n",
    "\n",
    "En cuanto a los datos, se puede concluir que mientras aumenta el tamaño de las calabazas, generalmente va a aumentar el precio."
   ]
  },
  {
   "cell_type": "code",
   "execution_count": null,
   "metadata": {},
   "outputs": [],
   "source": []
  }
 ],
 "metadata": {
  "kernelspec": {
   "display_name": "Python 3",
   "language": "python",
   "name": "python3"
  },
  "language_info": {
   "codemirror_mode": {
    "name": "ipython",
    "version": 3
   },
   "file_extension": ".py",
   "mimetype": "text/x-python",
   "name": "python",
   "nbconvert_exporter": "python",
   "pygments_lexer": "ipython3",
   "version": "3.8.1"
  }
 },
 "nbformat": 4,
 "nbformat_minor": 4
}
